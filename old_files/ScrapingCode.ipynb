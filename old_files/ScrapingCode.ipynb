{
 "cells": [
  {
   "cell_type": "markdown",
   "metadata": {},
   "source": [
    "# Web scraping code\n",
    "Website: http://cnes2.datasus.gov.br/"
   ]
  },
  {
   "cell_type": "code",
   "execution_count": 1,
   "metadata": {
    "collapsed": true
   },
   "outputs": [],
   "source": [
    "# importing all relevant libraries\n",
    "\n",
    "from selenium import webdriver as driver\n",
    "from selenium.webdriver.common.keys import Keys\n",
    "from selenium.webdriver.support.ui import Select \n",
    "\n",
    "from lxml import html\n",
    "import requests\n",
    "import pandas as pd\n",
    "import numpy as np\n"
   ]
  },
  {
   "cell_type": "code",
   "execution_count": 2,
   "metadata": {
    "collapsed": true
   },
   "outputs": [],
   "source": [
    "# Loading initial page\n",
    "page01 = requests.get('http://cnes2.datasus.gov.br/')    \n",
    "tree = html.fromstring(page01.content)\n",
    "# Setting up Selenium\n",
    "driver = driver.Chrome()\n",
    "driver.get('http://cnes2.datasus.gov.br/')"
   ]
  },
  {
   "cell_type": "markdown",
   "metadata": {},
   "source": [
    "The website has a drop down menu, which is activated when a mouse passes over it. The code below identify the correct drop down list, changes its attribute from 'hidden' to 'visible', and then select the appropriate item (Equipments)"
   ]
  },
  {
   "cell_type": "code",
   "execution_count": 3,
   "metadata": {
    "collapsed": true
   },
   "outputs": [],
   "source": [
    "# identifying the correct drop down list\n",
    "element = driver.find_element_by_xpath('/html/body/div[7]')\n",
    "# changing visibility from 'hidden' to 'visible': this will make the correspondent drop down list to be visible\n",
    "driver.execute_script(\"arguments[0].style='position: absolute; visibility: visible; background-color: rgb(0, 102, 153); width: 202px; height: 505px; font-family: sans-serif, verdana, \\\"comic sans ms\\\"; font-weight: normal; font-style: normal; font-size: 8pt; z-index: 102; top: 5px; left: 334px;'\", element)\n",
    "# with the drop down list visible, it's possible to select the correspondent element\n",
    "login_form = driver.find_element_by_xpath(\"html/body/div[7]/div[3]\").click()"
   ]
  },
  {
   "cell_type": "code",
   "execution_count": 4,
   "metadata": {},
   "outputs": [
    {
     "name": "stdout",
     "output_type": "stream",
     "text": [
      "['', '00', '12', '27', '13', '16', '29', '23', '53', '32', '52', '21', '31', '50', '51', '15', '25', '26', '22', '41', '33', '24', '11', '14', '43', '42', '28', '35', '17', '']\n",
      "['ESCOLHA ESTADO', 'TODOS', 'ACRE', 'ALAGOAS', 'AMAZONAS', 'AMAPA', 'BAHIA', 'CEARA', 'DISTRITO FEDERAL', 'ESPIRITO SANTO', 'GOIAS', 'MARANHAO', 'MINAS GERAIS', 'MATO GROSSO DO SUL', 'MATO GROSSO', 'PARA', 'PARAIBA', 'PERNAMBUCO', 'PIAUI', 'PARANA', 'RIO DE JANEIRO', 'RIO GRANDE DO NORTE', 'RONDONIA', 'RORAIMA', 'RIO GRANDE DO SUL', 'SANTA CATARINA', 'SERGIPE', 'SAO PAULO', 'TOCANTINS', '---MUNICÍPIO---']\n"
     ]
    }
   ],
   "source": [
    "#  \n",
    "# page02 = requests.get(driver.current_url)\n",
    "# tree = html.fromstring(page02.content)\n",
    "\n",
    "# Obtaining all possible States names (codes and names) in a list\n",
    "all_states = driver.find_elements_by_xpath(\"//*[@id='2']/option[@value]\")\n",
    "\n",
    "states_code = []\n",
    "states_name = []\n",
    "for state in all_states:\n",
    "    attribute_state = state.get_attribute('value')\n",
    "    states_code.append(attribute_state)\n",
    "    attribute_state02 = state.text\n",
    "    states_name.append(attribute_state02)\n",
    "print(states_code)\n",
    "print(states_name)\n",
    "\n",
    "# Converting both lists into pandas Series\n",
    "states_code = pd.Series(states_code)\n",
    "states_name = pd.Series(states_name)\n",
    "states_list = pd.DataFrame([states_code, states_name])\n",
    "states_list = states_list.T\n",
    "states_list.drop(states_list.index[[0, 1, 29]]) \n",
    "\n",
    "# Renaming all the columns\n",
    "states_list.columns = states_list.columns.map(str)\n",
    "states_list.columns.values[0] = 'codes'\n",
    "states_list.columns.values[1] = 'states'\n",
    "# states_list   # make this line run to see the dataframe created"
   ]
  },
  {
   "cell_type": "markdown",
   "metadata": {},
   "source": [
    "Now, we ask the user to insert some information: \n",
    "\n",
    "1) On which State he is interested in;\n",
    "\n",
    "\n",
    "2) On which City he wants information;\n",
    "\n",
    "\n",
    "3) On which period he needs data.\n",
    "\n",
    "The preliminar Antitrust analysis usually is made using cross-sectional data, i.e., data on one specific city in a specific month. This analysis is made by comparing the share of the health care institution in terms of number of equipment available for each procedure. The more equipment one institution has, higher is the proportion of the population he can be of service."
   ]
  },
  {
   "cell_type": "code",
   "execution_count": 5,
   "metadata": {},
   "outputs": [
    {
     "name": "stdout",
     "output_type": "stream",
     "text": [
      "Choose a State (capital letters, no accents): sao paulo\n",
      "State chosen: SAO PAULO\n"
     ]
    }
   ],
   "source": [
    "# We ask for the inputs and test to see if it was inserted correctly\n",
    "while True:\n",
    "    state_input_temp = input('Choose a State (capital letters, no accents): ')\n",
    "    if any(state_input_temp.upper() in s for s in states_name):\n",
    "        state_input = state_input_temp.upper()\n",
    "        print('State chosen:', state_input) \n",
    "        break\n",
    "    else:\n",
    "        print('\\033[1;41m Invalid State. Please insert a State name \\033[1;m')\n",
    "        continue\n",
    "\n",
    "# Now we apply the given state to the drop down list combo to open the cities options\n",
    "select = Select(driver.find_element_by_name('ComboEstado')) \n",
    "select.select_by_visible_text(state_input)\n"
   ]
  },
  {
   "cell_type": "code",
   "execution_count": 6,
   "metadata": {},
   "outputs": [
    {
     "name": "stdout",
     "output_type": "stream",
     "text": [
      "Choose a City (capital letters, no accents): sao paulo\n",
      "City chosen: SAO PAULO\n"
     ]
    }
   ],
   "source": [
    "# Now we performe the same thing for city level\n",
    "\n",
    "# Obtaining all possible Cities names (codes and names) in a list\n",
    "all_cities = driver.find_elements_by_xpath(\"//*[@id='2']/option[@value]\")\n",
    "\n",
    "cities_code = []\n",
    "cities_name = []\n",
    "for city in all_cities:\n",
    "    attribute_city = city.get_attribute('value')\n",
    "    cities_code.append(attribute_city)\n",
    "    attribute_city02 = city.text\n",
    "    cities_name.append(attribute_city02)\n",
    "#print(cities_code)\n",
    "#print(cities_name)\n",
    "\n",
    "# Converting both lists into pandas Series\n",
    "cities_code = pd.Series(cities_code)\n",
    "cities_name = pd.Series(cities_name)\n",
    "cities_list = pd.DataFrame([cities_code, cities_name])\n",
    "cities_list = cities_list.T\n",
    "#cities_list.drop(cities_list.index[[0:31, len(cities_name)+2]]) \n",
    "\n",
    "# Renaming all the columns\n",
    "cities_list.columns = cities_list.columns.map(str)\n",
    "cities_list.columns.values[0] = 'codes'\n",
    "cities_list.columns.values[1] = 'cities'\n",
    "   \n",
    "\n",
    "#We ask for the inputs and test to see if it was inserted correctly\n",
    "while True:\n",
    "    city_input_temp = input('Choose a City (capital letters, no accents): ')\n",
    "    if any(city_input_temp.upper() in s for s in cities_name):\n",
    "        city_input = city_input_temp.upper()\n",
    "        print('City chosen:', city_input) \n",
    "        break\n",
    "    else:\n",
    "        print('\\033[1;41m Invalid State. Please insert a City name \\033[1;m')\n",
    "        continue\n",
    "\n",
    "# Now we apply the given state to the drop down list combo to open the cities options\n",
    "select = Select(driver.find_element_by_name('ComboMunicipio')) \n",
    "select.select_by_visible_text(city_input)\n"
   ]
  },
  {
   "cell_type": "code",
   "execution_count": 13,
   "metadata": {},
   "outputs": [
    {
     "name": "stdout",
     "output_type": "stream",
     "text": [
      "Choose a year and month (format: MM/YYYY):09/2017\n",
      "Period chosen: 09/2017\n"
     ]
    }
   ],
   "source": [
    "# Now we performe the same thing for city level\n",
    "\n",
    "# Obtaining all possible Cities names (codes and names) in a list\n",
    "all_periods = driver.find_elements_by_id(\"cboCompetencia\")\n",
    "\n",
    "periods_code = []\n",
    "periods_name = []\n",
    "for period in all_periods:\n",
    "    attribute_period = period.get_attribute('value')\n",
    "    periods_code.append(attribute_period)\n",
    "    attribute_period02 = period.text\n",
    "    periods_name.append(attribute_period02)\n",
    "#print(cities_code)\n",
    "#print(cities_name)\n",
    "\n",
    "# Converting both lists into pandas Series\n",
    "periods_code = pd.Series(periods_code)\n",
    "periods_name = pd.Series(periods_name)\n",
    "periods_list = pd.DataFrame([periods_code, periods_name])\n",
    "periods_list = periods_list.T\n",
    "#periods_list.drop(periods_list.index[[0:31, len(periods_name)+2]]) \n",
    "\n",
    "# Renaming all the columns       \n",
    "periods_list.columns = periods_list.columns.map(str)\n",
    "periods_list.columns.values[0] = 'codes'\n",
    "periods_list.columns.values[1] = 'periods'\n",
    "\n",
    "# The dataframe for the periods is weird, all data is in one unique cell.\n",
    "# Nevertheless, checking the correct format and existence of the input period works fine.\n",
    "#periods_list.head(5)\n",
    "\n",
    "#We ask for the inputs and test to see if it was inserted correctly\n",
    "while True:\n",
    "    period_input_temp = input('Choose a year and month (format: MM/YYYY):')\n",
    "    if any(period_input_temp in s for s in periods_name):\n",
    "        period_input = period_input_temp\n",
    "        print('Period chosen:', period_input) \n",
    "        break\n",
    "    else:\n",
    "        print('\\033[1;41m Invalid period. Please choose a year and month (format: MM/YYYY): \\033[1;m')\n",
    "        continue\n",
    "select = Select(driver.find_element_by_name('cboCompetencia')) \n",
    "select.select_by_visible_text(period_input)"
   ]
  },
  {
   "cell_type": "code",
   "execution_count": 17,
   "metadata": {},
   "outputs": [
    {
     "name": "stdout",
     "output_type": "stream",
     "text": [
      "Choose an Equipment (capital letters, no accents): tomografo computadorizado\n",
      "\u001b[1;41m Invalid equipment. Please choose an Equipment (capital letters, no accents): \u001b[1;m\n",
      "Choose an Equipment (capital letters, no accents): mamografo computadorizado\n",
      "Equipment chosen: mamografo computadorizado\n"
     ]
    }
   ],
   "source": [
    "page03 = requests.get(driver.current_url)\n",
    "tree = html.fromstring(page03.content)\n",
    "equip_list = tree.xpath('//a/text()')\n",
    "\n",
    "# Now we ask for the name of the health care equipment \n",
    "#print('Equipment chosen:', equip_temp)\n",
    "\n",
    "while True:\n",
    "    equip_temp = input('Choose an Equipment (capital letters, no accents): ')\n",
    "    if any(equip_temp in s for s in equip_list):\n",
    "        equip_input = equip_temp\n",
    "        print('Equipment chosen:', equip_temp)\n",
    "        break\n",
    "    elif any(equip_temp.title() in s for s in equip_list):\n",
    "        equip_input = equip_temp.title()\n",
    "        print('Equipment chosen:', equip_temp)\n",
    "        break\n",
    "    elif any(equip_temp.upper() in s for s in equip_list):\n",
    "        equip_input = equip_temp.upper()\n",
    "        print('Equipment chosen:', equip_temp)\n",
    "        break\n",
    "    else:\n",
    "        print('\\033[1;41m Invalid equipment. Please choose an Equipment (capital letters, no accents): \\033[1;m')\n",
    "        continue\n",
    "\n",
    "# Select health care equipment of interest\n",
    "driver.find_element_by_link_text(equip_input).click()"
   ]
  },
  {
   "cell_type": "code",
   "execution_count": 21,
   "metadata": {},
   "outputs": [
    {
     "data": {
      "text/html": [
       "<div>\n",
       "<style>\n",
       "    .dataframe thead tr:only-child th {\n",
       "        text-align: right;\n",
       "    }\n",
       "\n",
       "    .dataframe thead th {\n",
       "        text-align: left;\n",
       "    }\n",
       "\n",
       "    .dataframe tbody tr th {\n",
       "        vertical-align: top;\n",
       "    }\n",
       "</style>\n",
       "<table border=\"1\" class=\"dataframe\">\n",
       "  <thead>\n",
       "    <tr style=\"text-align: right;\">\n",
       "      <th></th>\n",
       "      <th>Institution</th>\n",
       "      <th>CNES Code</th>\n",
       "      <th>Number of Equipments</th>\n",
       "      <th>Accept SUS patients?</th>\n",
       "    </tr>\n",
       "  </thead>\n",
       "  <tbody>\n",
       "    <tr>\n",
       "      <th>0</th>\n",
       "      <td>A C CAMARGO CANCER CENTER</td>\n",
       "      <td>2077531</td>\n",
       "      <td>3</td>\n",
       "      <td>Y</td>\n",
       "    </tr>\n",
       "    <tr>\n",
       "      <th>1</th>\n",
       "      <td>A MAIS MEDICINA DIAGNOSTICA UNID AUGUSTO TOLLE</td>\n",
       "      <td>9227571</td>\n",
       "      <td>1</td>\n",
       "      <td>N</td>\n",
       "    </tr>\n",
       "    <tr>\n",
       "      <th>2</th>\n",
       "      <td>A MAIS MEDICINA DIAGNOSTICA UNIDADE CAMPO BELO</td>\n",
       "      <td>6441106</td>\n",
       "      <td>1</td>\n",
       "      <td>N</td>\n",
       "    </tr>\n",
       "    <tr>\n",
       "      <th>3</th>\n",
       "      <td>A MAIS MEDICINA DIAGNOSTICA UNIDADE MOEMA</td>\n",
       "      <td>5167612</td>\n",
       "      <td>1</td>\n",
       "      <td>N</td>\n",
       "    </tr>\n",
       "    <tr>\n",
       "      <th>4</th>\n",
       "      <td>AFIP VILA CLEMENTINO</td>\n",
       "      <td>3813517</td>\n",
       "      <td>1</td>\n",
       "      <td>Y</td>\n",
       "    </tr>\n",
       "  </tbody>\n",
       "</table>\n",
       "</div>"
      ],
      "text/plain": [
       "                                      Institution CNES Code  \\\n",
       "0                       A C CAMARGO CANCER CENTER   2077531   \n",
       "1  A MAIS MEDICINA DIAGNOSTICA UNID AUGUSTO TOLLE   9227571   \n",
       "2  A MAIS MEDICINA DIAGNOSTICA UNIDADE CAMPO BELO   6441106   \n",
       "3       A MAIS MEDICINA DIAGNOSTICA UNIDADE MOEMA   5167612   \n",
       "4                            AFIP VILA CLEMENTINO   3813517   \n",
       "\n",
       "  Number of Equipments Accept SUS patients?  \n",
       "0                    3                    Y  \n",
       "1                    1                    N  \n",
       "2                    1                    N  \n",
       "3                    1                    N  \n",
       "4                    1                    Y  "
      ]
     },
     "execution_count": 21,
     "metadata": {},
     "output_type": "execute_result"
    }
   ],
   "source": [
    "page04 = requests.get(driver.current_url)\n",
    "tree = html.fromstring(page04.content)\n",
    "\n",
    "# scrapping data from table\n",
    "institution = tree.xpath('//a/text()')\n",
    "inst_code = tree.xpath('///tr[*]/td[1]/font/text()')\n",
    "city = tree.xpath('///tr[*]/td[3]/font/text()')\n",
    "equip = tree.xpath('///tr[*]/td[4]/font/text()')\n",
    "equip_public = tree.xpath('///tr[*]/td[5]/font/text()')\n",
    "\n",
    "# creating a database     /html/body/table/tbody/tr/td/p/table/tbody/tr[2]/td[5]/font\n",
    "data01 = pd.DataFrame(institution, columns={'Institution'})\n",
    "data02 = pd.DataFrame(inst_code[1:len(inst_code)-2], columns={'CNES Code'})\n",
    "data03 = pd.DataFrame(equip[1:len(inst_code)-2], columns={'Number of Equipments'})\n",
    "data04 = pd.DataFrame(equip_public[1:len(inst_code)-2], columns={'Accept SUS patients?'})\n",
    "data04.replace('S', 'Y', inplace=True)\n",
    "data = pd.concat([data01, data02, data03, data04], axis=1)\n",
    "data.head(5)"
   ]
  },
  {
   "cell_type": "code",
   "execution_count": 22,
   "metadata": {},
   "outputs": [
    {
     "data": {
      "text/html": [
       "<div>\n",
       "<style>\n",
       "    .dataframe thead tr:only-child th {\n",
       "        text-align: right;\n",
       "    }\n",
       "\n",
       "    .dataframe thead th {\n",
       "        text-align: left;\n",
       "    }\n",
       "\n",
       "    .dataframe tbody tr th {\n",
       "        vertical-align: top;\n",
       "    }\n",
       "</style>\n",
       "<table border=\"1\" class=\"dataframe\">\n",
       "  <thead>\n",
       "    <tr style=\"text-align: right;\">\n",
       "      <th></th>\n",
       "      <th>Institution</th>\n",
       "      <th>CNES Code</th>\n",
       "      <th>Number of Equipments</th>\n",
       "      <th>Accept SUS patients?</th>\n",
       "      <th>Equipment Name</th>\n",
       "    </tr>\n",
       "  </thead>\n",
       "  <tbody>\n",
       "    <tr>\n",
       "      <th>0</th>\n",
       "      <td>A C CAMARGO CANCER CENTER</td>\n",
       "      <td>2077531</td>\n",
       "      <td>3</td>\n",
       "      <td>Y</td>\n",
       "      <td>MAMOGRAFO COMPUTADORIZADO</td>\n",
       "    </tr>\n",
       "    <tr>\n",
       "      <th>1</th>\n",
       "      <td>A MAIS MEDICINA DIAGNOSTICA UNID AUGUSTO TOLLE</td>\n",
       "      <td>9227571</td>\n",
       "      <td>1</td>\n",
       "      <td>N</td>\n",
       "      <td>MAMOGRAFO COMPUTADORIZADO</td>\n",
       "    </tr>\n",
       "    <tr>\n",
       "      <th>2</th>\n",
       "      <td>A MAIS MEDICINA DIAGNOSTICA UNIDADE CAMPO BELO</td>\n",
       "      <td>6441106</td>\n",
       "      <td>1</td>\n",
       "      <td>N</td>\n",
       "      <td>MAMOGRAFO COMPUTADORIZADO</td>\n",
       "    </tr>\n",
       "    <tr>\n",
       "      <th>3</th>\n",
       "      <td>A MAIS MEDICINA DIAGNOSTICA UNIDADE MOEMA</td>\n",
       "      <td>5167612</td>\n",
       "      <td>1</td>\n",
       "      <td>N</td>\n",
       "      <td>MAMOGRAFO COMPUTADORIZADO</td>\n",
       "    </tr>\n",
       "    <tr>\n",
       "      <th>4</th>\n",
       "      <td>AFIP VILA CLEMENTINO</td>\n",
       "      <td>3813517</td>\n",
       "      <td>1</td>\n",
       "      <td>Y</td>\n",
       "      <td>MAMOGRAFO COMPUTADORIZADO</td>\n",
       "    </tr>\n",
       "  </tbody>\n",
       "</table>\n",
       "</div>"
      ],
      "text/plain": [
       "                                      Institution CNES Code  \\\n",
       "0                       A C CAMARGO CANCER CENTER   2077531   \n",
       "1  A MAIS MEDICINA DIAGNOSTICA UNID AUGUSTO TOLLE   9227571   \n",
       "2  A MAIS MEDICINA DIAGNOSTICA UNIDADE CAMPO BELO   6441106   \n",
       "3       A MAIS MEDICINA DIAGNOSTICA UNIDADE MOEMA   5167612   \n",
       "4                            AFIP VILA CLEMENTINO   3813517   \n",
       "\n",
       "  Number of Equipments Accept SUS patients?             Equipment Name  \n",
       "0                    3                    Y  MAMOGRAFO COMPUTADORIZADO  \n",
       "1                    1                    N  MAMOGRAFO COMPUTADORIZADO  \n",
       "2                    1                    N  MAMOGRAFO COMPUTADORIZADO  \n",
       "3                    1                    N  MAMOGRAFO COMPUTADORIZADO  \n",
       "4                    1                    Y  MAMOGRAFO COMPUTADORIZADO  "
      ]
     },
     "execution_count": 22,
     "metadata": {},
     "output_type": "execute_result"
    }
   ],
   "source": [
    "# adding column with equipment name\n",
    "all_text = tree.xpath('//font/text()')\n",
    "equip_name = all_text[0]\n",
    "data['Equipment Name'] = equip_name[20+equip_name[18:].index('-'):len(equip_name)]\n",
    "data.head(5)"
   ]
  },
  {
   "cell_type": "code",
   "execution_count": 24,
   "metadata": {
    "collapsed": true
   },
   "outputs": [],
   "source": [
    "# exporting database\n",
    "filepath = '/kolmogorov/OneDrive/Nerv/2_PhD/7_MachineLearning/95888_Python_Spring2018/Project/GitHub/DataFocusedPython_Group07/'\n",
    "data.to_csv(filepath+'Example.csv')"
   ]
  }
 ],
 "metadata": {
  "kernelspec": {
   "display_name": "Python 3",
   "language": "python",
   "name": "python3"
  },
  "language_info": {
   "codemirror_mode": {
    "name": "ipython",
    "version": 3
   },
   "file_extension": ".py",
   "mimetype": "text/x-python",
   "name": "python",
   "nbconvert_exporter": "python",
   "pygments_lexer": "ipython3",
   "version": "3.6.3"
  }
 },
 "nbformat": 4,
 "nbformat_minor": 2
}
